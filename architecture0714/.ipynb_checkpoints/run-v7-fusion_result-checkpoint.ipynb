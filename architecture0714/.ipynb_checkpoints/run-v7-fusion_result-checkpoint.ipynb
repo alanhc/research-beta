{
 "cells": [
  {
   "cell_type": "code",
   "execution_count": 1,
   "metadata": {
    "scrolled": true
   },
   "outputs": [
    {
     "name": "stdout",
     "output_type": "stream",
     "text": [
      "a.txt\t\t\t    run-v5.py\r\n",
      "calibration\t\t    run-v6.py\r\n",
      "confusion_matrix.txt\t    run-v7-demo-evaluation.py\r\n",
      "dataset_100_result.csv\t    run-v7-demo-test.py\r\n",
      "demo\t\t\t    run-v7-evaluation.py\r\n",
      "fewer_light_100_result.csv  run-v7-fusion_result.ipynb\r\n",
      "img\t\t\t    run-v7-test-hand-labeled.py\r\n",
      "make_light_image.py\t    run-v7-test.py\r\n",
      "model.yml\t\t    run-v7-train-ground.py\r\n",
      "pic_100_result.csv\t    test.ipynb\r\n",
      "README.md\t\t    test.py\r\n",
      "remove.py\t\t    train.py\r\n",
      "run-cce.py\t\t    train-rf-pipline.py\r\n",
      "run-cvgip.py\t\t    train-rf-random_serach.py\r\n",
      "run-simple.py\t\t    train-svm-pipline.py\r\n",
      "run-v2.py\t\t    utils\r\n",
      "run-v3.py\t\t    viz_result.py\r\n"
     ]
    }
   ],
   "source": [
    "!ls"
   ]
  },
  {
   "cell_type": "code",
   "execution_count": 304,
   "metadata": {
    "scrolled": true
   },
   "outputs": [
    {
     "data": {
      "text/html": [
       "<div>\n",
       "<style scoped>\n",
       "    .dataframe tbody tr th:only-of-type {\n",
       "        vertical-align: middle;\n",
       "    }\n",
       "\n",
       "    .dataframe tbody tr th {\n",
       "        vertical-align: top;\n",
       "    }\n",
       "\n",
       "    .dataframe thead th {\n",
       "        text-align: right;\n",
       "    }\n",
       "</style>\n",
       "<table border=\"1\" class=\"dataframe\">\n",
       "  <thead>\n",
       "    <tr style=\"text-align: right;\">\n",
       "      <th></th>\n",
       "      <th>filename</th>\n",
       "      <th>position</th>\n",
       "    </tr>\n",
       "  </thead>\n",
       "  <tbody>\n",
       "    <tr>\n",
       "      <th>0</th>\n",
       "      <td>1</td>\n",
       "      <td>[1548, 452, 232, 91]</td>\n",
       "    </tr>\n",
       "    <tr>\n",
       "      <th>1</th>\n",
       "      <td>1</td>\n",
       "      <td>[1031, 392, 459, 341]</td>\n",
       "    </tr>\n",
       "    <tr>\n",
       "      <th>2</th>\n",
       "      <td>1</td>\n",
       "      <td>[1457, 456, 156, 148]</td>\n",
       "    </tr>\n",
       "  </tbody>\n",
       "</table>\n",
       "</div>"
      ],
      "text/plain": [
       "   filename               position\n",
       "0         1   [1548, 452, 232, 91]\n",
       "1         1  [1031, 392, 459, 341]\n",
       "2         1  [1457, 456, 156, 148]"
      ]
     },
     "execution_count": 304,
     "metadata": {},
     "output_type": "execute_result"
    }
   ],
   "source": [
    "import pandas as pd\n",
    "import json\n",
    "data = pd.read_csv('dataset_100_result.csv')\n",
    "data = data[['filename','position']]\n",
    "data.head(3)"
   ]
  },
  {
   "cell_type": "code",
   "execution_count": 305,
   "metadata": {},
   "outputs": [
    {
     "name": "stdout",
     "output_type": "stream",
     "text": [
      "Int64Index([  1,   2,   3,   4,   5,   6,   7,   8,   9,  10,  11,  12,  13,\n",
      "             14,  15,  16,  17,  18,  19,  20,  21,  22,  23,  24,  25,  26,\n",
      "             27,  28,  29,  30,  31,  32,  33,  34,  35,  36,  37,  38,  39,\n",
      "             40,  41,  42,  43,  44,  45,  46,  47,  48,  49,  50,  51,  52,\n",
      "             53,  54,  55,  56,  57,  58,  59,  60,  61,  62,  63,  64,  65,\n",
      "             66,  67,  68,  69,  73,  74,  75,  76,  77,  78,  79,  80,  81,\n",
      "             82,  83,  84,  85,  86,  87,  88,  89,  90,  91,  92,  93,  94,\n",
      "             95,  96,  97,  98,  99, 100],\n",
      "           dtype='int64', name='filename')\n"
     ]
    }
   ],
   "source": [
    "g = data.groupby([\"filename\"])\n",
    "roi_names = g.count().index\n",
    "print(roi_names)\n"
   ]
  },
  {
   "cell_type": "code",
   "execution_count": 306,
   "metadata": {},
   "outputs": [],
   "source": [
    "import json"
   ]
  },
  {
   "cell_type": "code",
   "execution_count": 307,
   "metadata": {},
   "outputs": [],
   "source": [
    "def rect_cross(boxes):\n",
    "    if boxes[0][2]>boxes[1][0] or boxes[0][3]<boxes[1][1]:\n",
    "        return True\n",
    "    else:\n",
    "        return False\n",
    "    "
   ]
  },
  {
   "cell_type": "code",
   "execution_count": 323,
   "metadata": {},
   "outputs": [],
   "source": [
    "for i in range(len(roi_names)-1):\n",
    "    #print(roi_names[i])\n",
    "    frame_data_old = data[ data['filename']==roi_names[i] ]\n",
    "    frame_data_now = data[ data['filename']==roi_names[i+1] ]\n",
    "    for old_data in frame_data_old.head().iterrows():\n",
    "        for now_data in frame_data_now.head().iterrows():\n",
    "            filename = now_data[1]['filename']\n",
    "            o_data = json.loads(str(old_data[1]['position']))\n",
    "            n_data = json.loads(str(now_data[1]['position']))\n",
    "            r1_x1, r1_y1, r1_w, r1_h = o_data\n",
    "            r1_x2 = r1_x1 + r1_w\n",
    "            r1_y2 = r1_y1 + r1_h\n",
    "            r2_x1, r2_y1, r2_w, r2_h = n_data\n",
    "            r2_x2 = r2_x1 + r2_w\n",
    "            r2_y2 = r2_y1 + r2_h\n",
    "            boxes = []\n",
    "            boxes.append([r1_x1,r1_y1, r1_x2, r1_y2])\n",
    "            boxes.append([r2_x1,r2_y1, r2_x2, r2_y2])\n",
    "            boxes.sort()\n",
    "            is_cross = rect_cross(boxes)\n",
    "            if is_cross:\n",
    "                x,y,w,h = mid_pos(boxes)\n",
    "                name_check = data['filename']==filename\n",
    "                pos_check = data['position'] == str(n_data)\n",
    "                data.loc[pos_check,'position'] =  str([x,y,w,h])"
   ]
  },
  {
   "cell_type": "code",
   "execution_count": 309,
   "metadata": {},
   "outputs": [
    {
     "data": {
      "text/html": [
       "<div>\n",
       "<style scoped>\n",
       "    .dataframe tbody tr th:only-of-type {\n",
       "        vertical-align: middle;\n",
       "    }\n",
       "\n",
       "    .dataframe tbody tr th {\n",
       "        vertical-align: top;\n",
       "    }\n",
       "\n",
       "    .dataframe thead th {\n",
       "        text-align: right;\n",
       "    }\n",
       "</style>\n",
       "<table border=\"1\" class=\"dataframe\">\n",
       "  <thead>\n",
       "    <tr style=\"text-align: right;\">\n",
       "      <th></th>\n",
       "      <th>filename</th>\n",
       "      <th>position</th>\n",
       "    </tr>\n",
       "  </thead>\n",
       "  <tbody>\n",
       "    <tr>\n",
       "      <th>0</th>\n",
       "      <td>1</td>\n",
       "      <td>[1548, 452, 232, 91]</td>\n",
       "    </tr>\n",
       "    <tr>\n",
       "      <th>1</th>\n",
       "      <td>1</td>\n",
       "      <td>[1031, 392, 459, 341]</td>\n",
       "    </tr>\n",
       "    <tr>\n",
       "      <th>2</th>\n",
       "      <td>1</td>\n",
       "      <td>[1457, 456, 156, 148]</td>\n",
       "    </tr>\n",
       "    <tr>\n",
       "      <th>3</th>\n",
       "      <td>1</td>\n",
       "      <td>[1508, 454, 336, 199]</td>\n",
       "    </tr>\n",
       "    <tr>\n",
       "      <th>4</th>\n",
       "      <td>1</td>\n",
       "      <td>[1006, 534, 115, 120]</td>\n",
       "    </tr>\n",
       "  </tbody>\n",
       "</table>\n",
       "</div>"
      ],
      "text/plain": [
       "   filename               position\n",
       "0         1   [1548, 452, 232, 91]\n",
       "1         1  [1031, 392, 459, 341]\n",
       "2         1  [1457, 456, 156, 148]\n",
       "3         1  [1508, 454, 336, 199]\n",
       "4         1  [1006, 534, 115, 120]"
      ]
     },
     "execution_count": 309,
     "metadata": {},
     "output_type": "execute_result"
    }
   ],
   "source": [
    "frame_data_old = data[ data['filename']==roi_names[0] ]\n",
    "frame_data_now = data[ data['filename']==roi_names[1] ]\n",
    "frame_data_old"
   ]
  },
  {
   "cell_type": "code",
   "execution_count": 310,
   "metadata": {},
   "outputs": [
    {
     "data": {
      "text/html": [
       "<div>\n",
       "<style scoped>\n",
       "    .dataframe tbody tr th:only-of-type {\n",
       "        vertical-align: middle;\n",
       "    }\n",
       "\n",
       "    .dataframe tbody tr th {\n",
       "        vertical-align: top;\n",
       "    }\n",
       "\n",
       "    .dataframe thead th {\n",
       "        text-align: right;\n",
       "    }\n",
       "</style>\n",
       "<table border=\"1\" class=\"dataframe\">\n",
       "  <thead>\n",
       "    <tr style=\"text-align: right;\">\n",
       "      <th></th>\n",
       "      <th>filename</th>\n",
       "      <th>position</th>\n",
       "    </tr>\n",
       "  </thead>\n",
       "  <tbody>\n",
       "    <tr>\n",
       "      <th>5</th>\n",
       "      <td>2</td>\n",
       "      <td>[1006, 420, 492, 329]</td>\n",
       "    </tr>\n",
       "    <tr>\n",
       "      <th>6</th>\n",
       "      <td>2</td>\n",
       "      <td>[1555, 510, 264, 136]</td>\n",
       "    </tr>\n",
       "  </tbody>\n",
       "</table>\n",
       "</div>"
      ],
      "text/plain": [
       "   filename               position\n",
       "5         2  [1006, 420, 492, 329]\n",
       "6         2  [1555, 510, 264, 136]"
      ]
     },
     "execution_count": 310,
     "metadata": {},
     "output_type": "execute_result"
    }
   ],
   "source": [
    "frame_data_now"
   ]
  },
  {
   "cell_type": "code",
   "execution_count": 311,
   "metadata": {},
   "outputs": [],
   "source": [
    "def mid_pos(boxes):\n",
    "    pos =[]\n",
    "    for i in range(4):\n",
    "        pos.append( (boxes[0][i]+boxes[1][i])//2 )\n",
    "    pos[2] = pos[2] - pos[0]\n",
    "    pos[3] = pos[3] - pos[1]\n",
    "    return pos"
   ]
  },
  {
   "cell_type": "code",
   "execution_count": null,
   "metadata": {},
   "outputs": [],
   "source": []
  },
  {
   "cell_type": "code",
   "execution_count": 312,
   "metadata": {},
   "outputs": [
    {
     "data": {
      "text/plain": [
       "[1280, 465, 378, 232]"
      ]
     },
     "execution_count": 312,
     "metadata": {},
     "output_type": "execute_result"
    }
   ],
   "source": [
    "b  = [[1006, 420, 1006+492, 420+329], [1555, 510, 1555+264, 510+136]]\n",
    "a = mid_pos(b)\n",
    "a"
   ]
  },
  {
   "cell_type": "code",
   "execution_count": 322,
   "metadata": {},
   "outputs": [],
   "source": [
    "\n",
    "\n",
    "            #print(\"==\\n\", data.loc[pos_check, 'position'])\n",
    "            "
   ]
  },
  {
   "cell_type": "code",
   "execution_count": 318,
   "metadata": {},
   "outputs": [
    {
     "data": {
      "text/html": [
       "<div>\n",
       "<style scoped>\n",
       "    .dataframe tbody tr th:only-of-type {\n",
       "        vertical-align: middle;\n",
       "    }\n",
       "\n",
       "    .dataframe tbody tr th {\n",
       "        vertical-align: top;\n",
       "    }\n",
       "\n",
       "    .dataframe thead th {\n",
       "        text-align: right;\n",
       "    }\n",
       "</style>\n",
       "<table border=\"1\" class=\"dataframe\">\n",
       "  <thead>\n",
       "    <tr style=\"text-align: right;\">\n",
       "      <th></th>\n",
       "      <th>Unnamed: 0</th>\n",
       "      <th>filename</th>\n",
       "      <th>position</th>\n",
       "    </tr>\n",
       "  </thead>\n",
       "  <tbody>\n",
       "    <tr>\n",
       "      <th>0</th>\n",
       "      <td>0</td>\n",
       "      <td>1</td>\n",
       "      <td>[1548, 452, 232, 91]</td>\n",
       "    </tr>\n",
       "    <tr>\n",
       "      <th>1</th>\n",
       "      <td>1</td>\n",
       "      <td>1</td>\n",
       "      <td>[1031, 392, 459, 341]</td>\n",
       "    </tr>\n",
       "    <tr>\n",
       "      <th>2</th>\n",
       "      <td>2</td>\n",
       "      <td>1</td>\n",
       "      <td>[1457, 456, 156, 148]</td>\n",
       "    </tr>\n",
       "  </tbody>\n",
       "</table>\n",
       "</div>"
      ],
      "text/plain": [
       "   Unnamed: 0  filename               position\n",
       "0           0         1   [1548, 452, 232, 91]\n",
       "1           1         1  [1031, 392, 459, 341]\n",
       "2           2         1  [1457, 456, 156, 148]"
      ]
     },
     "execution_count": 318,
     "metadata": {},
     "output_type": "execute_result"
    }
   ],
   "source": [
    "data.to_csv('haha.csv')\n",
    "old_data = pd.read_csv('dataset_100_result.csv')\n",
    "old_data.head(3)"
   ]
  },
  {
   "cell_type": "code",
   "execution_count": 321,
   "metadata": {},
   "outputs": [
    {
     "data": {
      "text/html": [
       "<div>\n",
       "<style scoped>\n",
       "    .dataframe tbody tr th:only-of-type {\n",
       "        vertical-align: middle;\n",
       "    }\n",
       "\n",
       "    .dataframe tbody tr th {\n",
       "        vertical-align: top;\n",
       "    }\n",
       "\n",
       "    .dataframe thead th {\n",
       "        text-align: right;\n",
       "    }\n",
       "</style>\n",
       "<table border=\"1\" class=\"dataframe\">\n",
       "  <thead>\n",
       "    <tr style=\"text-align: right;\">\n",
       "      <th></th>\n",
       "      <th>filename</th>\n",
       "      <th>position</th>\n",
       "    </tr>\n",
       "  </thead>\n",
       "  <tbody>\n",
       "    <tr>\n",
       "      <th>0</th>\n",
       "      <td>1</td>\n",
       "      <td>[1548, 452, 232, 91]</td>\n",
       "    </tr>\n",
       "    <tr>\n",
       "      <th>1</th>\n",
       "      <td>1</td>\n",
       "      <td>[1031, 392, 459, 341]</td>\n",
       "    </tr>\n",
       "    <tr>\n",
       "      <th>2</th>\n",
       "      <td>1</td>\n",
       "      <td>[1457, 456, 156, 148]</td>\n",
       "    </tr>\n",
       "    <tr>\n",
       "      <th>3</th>\n",
       "      <td>1</td>\n",
       "      <td>[1508, 454, 336, 199]</td>\n",
       "    </tr>\n",
       "    <tr>\n",
       "      <th>4</th>\n",
       "      <td>1</td>\n",
       "      <td>[1006, 534, 115, 120]</td>\n",
       "    </tr>\n",
       "    <tr>\n",
       "      <th>5</th>\n",
       "      <td>2</td>\n",
       "      <td>[1018, 406, 476, 335]</td>\n",
       "    </tr>\n",
       "    <tr>\n",
       "      <th>6</th>\n",
       "      <td>2</td>\n",
       "      <td>[1551, 481, 248, 113]</td>\n",
       "    </tr>\n",
       "    <tr>\n",
       "      <th>7</th>\n",
       "      <td>3</td>\n",
       "      <td>[1444, 457, 37, 58]</td>\n",
       "    </tr>\n",
       "    <tr>\n",
       "      <th>8</th>\n",
       "      <td>3</td>\n",
       "      <td>[1534, 456, 46, 48]</td>\n",
       "    </tr>\n",
       "    <tr>\n",
       "      <th>9</th>\n",
       "      <td>3</td>\n",
       "      <td>[1490, 438, 102, 117]</td>\n",
       "    </tr>\n",
       "  </tbody>\n",
       "</table>\n",
       "</div>"
      ],
      "text/plain": [
       "   filename               position\n",
       "0         1   [1548, 452, 232, 91]\n",
       "1         1  [1031, 392, 459, 341]\n",
       "2         1  [1457, 456, 156, 148]\n",
       "3         1  [1508, 454, 336, 199]\n",
       "4         1  [1006, 534, 115, 120]\n",
       "5         2  [1018, 406, 476, 335]\n",
       "6         2  [1551, 481, 248, 113]\n",
       "7         3    [1444, 457, 37, 58]\n",
       "8         3    [1534, 456, 46, 48]\n",
       "9         3  [1490, 438, 102, 117]"
      ]
     },
     "execution_count": 321,
     "metadata": {},
     "output_type": "execute_result"
    }
   ],
   "source": [
    "data.head(10)"
   ]
  },
  {
   "cell_type": "code",
   "execution_count": 320,
   "metadata": {},
   "outputs": [
    {
     "data": {
      "text/html": [
       "<div>\n",
       "<style scoped>\n",
       "    .dataframe tbody tr th:only-of-type {\n",
       "        vertical-align: middle;\n",
       "    }\n",
       "\n",
       "    .dataframe tbody tr th {\n",
       "        vertical-align: top;\n",
       "    }\n",
       "\n",
       "    .dataframe thead th {\n",
       "        text-align: right;\n",
       "    }\n",
       "</style>\n",
       "<table border=\"1\" class=\"dataframe\">\n",
       "  <thead>\n",
       "    <tr style=\"text-align: right;\">\n",
       "      <th></th>\n",
       "      <th>Unnamed: 0</th>\n",
       "      <th>filename</th>\n",
       "      <th>position</th>\n",
       "    </tr>\n",
       "  </thead>\n",
       "  <tbody>\n",
       "    <tr>\n",
       "      <th>0</th>\n",
       "      <td>0</td>\n",
       "      <td>1</td>\n",
       "      <td>[1548, 452, 232, 91]</td>\n",
       "    </tr>\n",
       "    <tr>\n",
       "      <th>1</th>\n",
       "      <td>1</td>\n",
       "      <td>1</td>\n",
       "      <td>[1031, 392, 459, 341]</td>\n",
       "    </tr>\n",
       "    <tr>\n",
       "      <th>2</th>\n",
       "      <td>2</td>\n",
       "      <td>1</td>\n",
       "      <td>[1457, 456, 156, 148]</td>\n",
       "    </tr>\n",
       "    <tr>\n",
       "      <th>3</th>\n",
       "      <td>3</td>\n",
       "      <td>1</td>\n",
       "      <td>[1508, 454, 336, 199]</td>\n",
       "    </tr>\n",
       "    <tr>\n",
       "      <th>4</th>\n",
       "      <td>4</td>\n",
       "      <td>1</td>\n",
       "      <td>[1006, 534, 115, 120]</td>\n",
       "    </tr>\n",
       "    <tr>\n",
       "      <th>5</th>\n",
       "      <td>5</td>\n",
       "      <td>2</td>\n",
       "      <td>[1006, 420, 492, 329]</td>\n",
       "    </tr>\n",
       "    <tr>\n",
       "      <th>6</th>\n",
       "      <td>6</td>\n",
       "      <td>2</td>\n",
       "      <td>[1555, 510, 264, 136]</td>\n",
       "    </tr>\n",
       "    <tr>\n",
       "      <th>7</th>\n",
       "      <td>7</td>\n",
       "      <td>3</td>\n",
       "      <td>[1444, 457, 37, 58]</td>\n",
       "    </tr>\n",
       "    <tr>\n",
       "      <th>8</th>\n",
       "      <td>8</td>\n",
       "      <td>3</td>\n",
       "      <td>[1534, 456, 46, 48]</td>\n",
       "    </tr>\n",
       "    <tr>\n",
       "      <th>9</th>\n",
       "      <td>9</td>\n",
       "      <td>3</td>\n",
       "      <td>[1490, 438, 102, 117]</td>\n",
       "    </tr>\n",
       "  </tbody>\n",
       "</table>\n",
       "</div>"
      ],
      "text/plain": [
       "   Unnamed: 0  filename               position\n",
       "0           0         1   [1548, 452, 232, 91]\n",
       "1           1         1  [1031, 392, 459, 341]\n",
       "2           2         1  [1457, 456, 156, 148]\n",
       "3           3         1  [1508, 454, 336, 199]\n",
       "4           4         1  [1006, 534, 115, 120]\n",
       "5           5         2  [1006, 420, 492, 329]\n",
       "6           6         2  [1555, 510, 264, 136]\n",
       "7           7         3    [1444, 457, 37, 58]\n",
       "8           8         3    [1534, 456, 46, 48]\n",
       "9           9         3  [1490, 438, 102, 117]"
      ]
     },
     "execution_count": 320,
     "metadata": {},
     "output_type": "execute_result"
    }
   ],
   "source": [
    "old_data.head(10)"
   ]
  }
 ],
 "metadata": {
  "kernelspec": {
   "display_name": "Python 3",
   "language": "python",
   "name": "python3"
  },
  "language_info": {
   "codemirror_mode": {
    "name": "ipython",
    "version": 3
   },
   "file_extension": ".py",
   "mimetype": "text/x-python",
   "name": "python",
   "nbconvert_exporter": "python",
   "pygments_lexer": "ipython3",
   "version": "3.6.10"
  }
 },
 "nbformat": 4,
 "nbformat_minor": 4
}
