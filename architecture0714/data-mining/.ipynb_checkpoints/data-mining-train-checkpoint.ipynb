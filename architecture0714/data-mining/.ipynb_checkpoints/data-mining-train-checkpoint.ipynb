{
 "cells": [
  {
   "cell_type": "code",
   "execution_count": 18,
   "metadata": {
    "scrolled": false
   },
   "outputs": [
    {
     "name": "stdout",
     "output_type": "stream",
     "text": [
      "(1361, 9)\n"
     ]
    },
    {
     "data": {
      "text/html": [
       "<div>\n",
       "<style scoped>\n",
       "    .dataframe tbody tr th:only-of-type {\n",
       "        vertical-align: middle;\n",
       "    }\n",
       "\n",
       "    .dataframe tbody tr th {\n",
       "        vertical-align: top;\n",
       "    }\n",
       "\n",
       "    .dataframe thead th {\n",
       "        text-align: right;\n",
       "    }\n",
       "</style>\n",
       "<table border=\"1\" class=\"dataframe\">\n",
       "  <thead>\n",
       "    <tr style=\"text-align: right;\">\n",
       "      <th></th>\n",
       "      <th>Unnamed: 0</th>\n",
       "      <th>fliename</th>\n",
       "      <th>iou</th>\n",
       "      <th>min</th>\n",
       "      <th>std</th>\n",
       "      <th>y</th>\n",
       "      <th>area</th>\n",
       "      <th>position</th>\n",
       "      <th>answers</th>\n",
       "    </tr>\n",
       "  </thead>\n",
       "  <tbody>\n",
       "    <tr>\n",
       "      <th>0</th>\n",
       "      <td>0</td>\n",
       "      <td>1</td>\n",
       "      <td>0.000000</td>\n",
       "      <td>24</td>\n",
       "      <td>33.091864</td>\n",
       "      <td>386</td>\n",
       "      <td>23086</td>\n",
       "      <td>[571, 386, 194, 119]</td>\n",
       "      <td>0</td>\n",
       "    </tr>\n",
       "    <tr>\n",
       "      <th>1</th>\n",
       "      <td>1</td>\n",
       "      <td>1</td>\n",
       "      <td>0.992541</td>\n",
       "      <td>69</td>\n",
       "      <td>42.117265</td>\n",
       "      <td>455</td>\n",
       "      <td>2279</td>\n",
       "      <td>[1473, 455, 53, 43]</td>\n",
       "      <td>1</td>\n",
       "    </tr>\n",
       "    <tr>\n",
       "      <th>2</th>\n",
       "      <td>2</td>\n",
       "      <td>1</td>\n",
       "      <td>0.000000</td>\n",
       "      <td>31</td>\n",
       "      <td>16.803156</td>\n",
       "      <td>466</td>\n",
       "      <td>23680</td>\n",
       "      <td>[191, 466, 185, 128]</td>\n",
       "      <td>0</td>\n",
       "    </tr>\n",
       "  </tbody>\n",
       "</table>\n",
       "</div>"
      ],
      "text/plain": [
       "   Unnamed: 0  fliename       iou  min        std    y   area  \\\n",
       "0           0         1  0.000000   24  33.091864  386  23086   \n",
       "1           1         1  0.992541   69  42.117265  455   2279   \n",
       "2           2         1  0.000000   31  16.803156  466  23680   \n",
       "\n",
       "               position  answers  \n",
       "0  [571, 386, 194, 119]        0  \n",
       "1   [1473, 455, 53, 43]        1  \n",
       "2  [191, 466, 185, 128]        0  "
      ]
     },
     "execution_count": 18,
     "metadata": {},
     "output_type": "execute_result"
    }
   ],
   "source": [
    "import glob\n",
    "import pandas as pd\n",
    "data = pd.read_csv('../../../dataset/dataset_100/origin/data-7-train-origin.csv')\n",
    "print(data.shape)\n",
    "data.head(3)"
   ]
  },
  {
   "cell_type": "code",
   "execution_count": 30,
   "metadata": {},
   "outputs": [
    {
     "data": {
      "text/html": [
       "<div>\n",
       "<style scoped>\n",
       "    .dataframe tbody tr th:only-of-type {\n",
       "        vertical-align: middle;\n",
       "    }\n",
       "\n",
       "    .dataframe tbody tr th {\n",
       "        vertical-align: top;\n",
       "    }\n",
       "\n",
       "    .dataframe thead th {\n",
       "        text-align: right;\n",
       "    }\n",
       "</style>\n",
       "<table border=\"1\" class=\"dataframe\">\n",
       "  <thead>\n",
       "    <tr style=\"text-align: right;\">\n",
       "      <th></th>\n",
       "      <th>Unnamed: 0</th>\n",
       "      <th>fliename</th>\n",
       "      <th>iou</th>\n",
       "      <th>min</th>\n",
       "      <th>std</th>\n",
       "      <th>y</th>\n",
       "      <th>area</th>\n",
       "      <th>position</th>\n",
       "      <th>answers</th>\n",
       "    </tr>\n",
       "  </thead>\n",
       "  <tbody>\n",
       "    <tr>\n",
       "      <th>0</th>\n",
       "      <td>0</td>\n",
       "      <td>1</td>\n",
       "      <td>1.00000</td>\n",
       "      <td>5</td>\n",
       "      <td>3.531798</td>\n",
       "      <td>494</td>\n",
       "      <td>775</td>\n",
       "      <td>[1209, 494, 25, 31]</td>\n",
       "      <td>0</td>\n",
       "    </tr>\n",
       "    <tr>\n",
       "      <th>1</th>\n",
       "      <td>1</td>\n",
       "      <td>1</td>\n",
       "      <td>1.00000</td>\n",
       "      <td>0</td>\n",
       "      <td>75.234196</td>\n",
       "      <td>625</td>\n",
       "      <td>714</td>\n",
       "      <td>[1663, 625, 34, 21]</td>\n",
       "      <td>0</td>\n",
       "    </tr>\n",
       "    <tr>\n",
       "      <th>2</th>\n",
       "      <td>2</td>\n",
       "      <td>1</td>\n",
       "      <td>0.26087</td>\n",
       "      <td>2</td>\n",
       "      <td>25.645762</td>\n",
       "      <td>358</td>\n",
       "      <td>1058</td>\n",
       "      <td>[1298, 358, 23, 46]</td>\n",
       "      <td>0</td>\n",
       "    </tr>\n",
       "  </tbody>\n",
       "</table>\n",
       "</div>"
      ],
      "text/plain": [
       "   Unnamed: 0  fliename      iou  min        std    y  area  \\\n",
       "0           0         1  1.00000    5   3.531798  494   775   \n",
       "1           1         1  1.00000    0  75.234196  625   714   \n",
       "2           2         1  0.26087    2  25.645762  358  1058   \n",
       "\n",
       "              position  answers  \n",
       "0  [1209, 494, 25, 31]        0  \n",
       "1  [1663, 625, 34, 21]        0  \n",
       "2  [1298, 358, 23, 46]        0  "
      ]
     },
     "execution_count": 30,
     "metadata": {},
     "output_type": "execute_result"
    }
   ],
   "source": [
    "test_data = pd.read_csv('../../../dataset/dataset_100/origin/data-7-test-origin.csv')\n",
    "X_test = test_data[['iou', 'min', 'std', 'y', 'area']]\n",
    "y_test = test_data['answers']\n",
    "test_data.head(3)"
   ]
  },
  {
   "cell_type": "code",
   "execution_count": 47,
   "metadata": {
    "scrolled": true
   },
   "outputs": [],
   "source": [
    "import numpy as np\n",
    "import matplotlib.pyplot as plt\n",
    "\n",
    "\n",
    "from sklearn.ensemble import ExtraTreesClassifier\n",
    "\n",
    "def make_importances(X=None, y=None):\n",
    "    feature_names = ['iou', 'min', 'std', 'y', 'area']\n",
    "    \n",
    "    # Build a forest and compute the impurity-based feature importances\n",
    "    forest = ExtraTreesClassifier(n_estimators=250,\n",
    "                                  random_state=0)\n",
    "    forest.fit(X, y)\n",
    "    importances = forest.feature_importances_\n",
    "    \n",
    "    std = np.std([tree.feature_importances_ for tree in forest.estimators_],\n",
    "                 axis=0)\n",
    "    indices = np.argsort(importances)[::-1]\n",
    "    \n",
    "    f_name = []\n",
    "    for i in indices:\n",
    "        f_name.append(feature_names[i])\n",
    "    # Print the feature ranking\n",
    "    print(\"Feature ranking:\")\n",
    "\n",
    "    \n",
    "    for f in range(X.shape[1]):\n",
    "        print(\"%d. feature [%s] %d (%f)\" % (f + 1, feature_names[indices[f]], indices[f], importances[indices[f]]))\n",
    "\n",
    "    plt.figure()\n",
    "    plt.title(\"Feature importances\")\n",
    "    plt.bar(range(X.shape[1]), importances[indices],\n",
    "            color=\"r\", yerr=std[indices], align=\"center\")\n",
    "    plt.xticks(range(X.shape[1]), f_name)\n",
    "    plt.xlim([-1, X.shape[1]])\n",
    "    plt.show()"
   ]
  },
  {
   "cell_type": "code",
   "execution_count": 48,
   "metadata": {},
   "outputs": [
    {
     "name": "stdout",
     "output_type": "stream",
     "text": [
      "X_train: (1361, 5)\n",
      "y_train: (1361,)\n",
      "Feature ranking:\n",
      "1. feature [min] 1 (0.256383)\n",
      "2. feature [iou] 0 (0.243278)\n",
      "3. feature [y] 3 (0.222334)\n",
      "4. feature [area] 4 (0.147685)\n",
      "5. feature [std] 2 (0.130320)\n"
     ]
    },
    {
     "data": {
      "image/png": "[encoded data removed]",
      "text/plain": [
       "<Figure size 432x288 with 1 Axes>"
      ]
     },
     "metadata": {
      "needs_background": "light"
     },
     "output_type": "display_data"
    }
   ],
   "source": [
    "X_train = data[['iou', 'min', 'std', 'y', 'area']]\n",
    "y_train = data['answers']\n",
    "print(\"X_train:\", X_train.shape)\n",
    "print(\"y_train:\", y_train.shape)\n",
    "make_importances(X=X_train, y=y_train)"
   ]
  },
  {
   "cell_type": "code",
   "execution_count": 49,
   "metadata": {},
   "outputs": [
    {
     "name": "stdout",
     "output_type": "stream",
     "text": [
      "X_test: (3649, 5)\n",
      "y_test: (3649,)\n",
      "Feature ranking:\n",
      "1. feature [area] 4 (0.282535)\n",
      "2. feature [y] 3 (0.249372)\n",
      "3. feature [iou] 0 (0.184210)\n",
      "4. feature [std] 2 (0.162764)\n",
      "5. feature [min] 1 (0.121119)\n"
     ]
    },
    {
     "data": {
      "image/png": "[encoded data removed]",
      "text/plain": [
       "<Figure size 432x288 with 1 Axes>"
      ]
     },
     "metadata": {
      "needs_background": "light"
     },
     "output_type": "display_data"
    }
   ],
   "source": [
    "X_test = test_data[['iou', 'min', 'std', 'y', 'area']]\n",
    "y_test = test_data['answers']\n",
    "print(\"X_test:\", X_test.shape)\n",
    "print(\"y_test:\", y_test.shape)\n",
    "make_importances(X=X_test, y=y_test)"
   ]
  },
  {
   "cell_type": "markdown",
   "metadata": {},
   "source": [
    "https://scikit-learn.org/stable/auto_examples/ensemble/plot_forest_importances.html\n",
    "\n",
    "https://towardsdatascience.com/explaining-feature-importance-by-example-of-a-random-forest-d9166011959e\n",
    "\n",
    "https://scikit-learn.org/stable/auto_examples/release_highlights/plot_release_highlights_0_22_0.html#sphx-glr-auto-examples-release-highlights-plot-release-highlights-0-22-0-py"
   ]
  },
  {
   "cell_type": "code",
   "execution_count": null,
   "metadata": {},
   "outputs": [],
   "source": []
  },
  {
   "cell_type": "code",
   "execution_count": 62,
   "metadata": {},
   "outputs": [],
   "source": [
    "from sklearn.ensemble import RandomForestClassifier\n",
    "from sklearn.inspection import permutation_importance\n",
    "feature_names = ['iou', 'min', 'std', 'y', 'area']\n",
    "def func_permutation_importance(X=None, y=None):\n",
    "    rf = RandomForestClassifier(random_state=0).fit(X, y)\n",
    "    result = permutation_importance(rf, X, y, n_repeats=10, random_state=0,\n",
    "                                    n_jobs=-1)\n",
    "\n",
    "    fig, ax = plt.subplots()\n",
    "    print(result.importances_mean)\n",
    "    sorted_idx = result.importances_mean.argsort()\n",
    "    print(sorted_idx)\n",
    "    f_name = []\n",
    "    for i in sorted_idx:\n",
    "        f_name.append(feature_names[i])\n",
    "    ax.boxplot(result.importances[sorted_idx].T,\n",
    "               vert=False, labels=f_name)\n",
    "    ax.set_title(\"Permutation Importance of each feature\")\n",
    "    ax.set_ylabel(\"Features\")\n",
    "    fig.tight_layout()\n",
    "    plt.show()"
   ]
  },
  {
   "cell_type": "code",
   "execution_count": 63,
   "metadata": {},
   "outputs": [
    {
     "name": "stdout",
     "output_type": "stream",
     "text": [
      "[0.02182219 0.13365173 0.09250551 0.12292432 0.0578986 ]\n",
      "[0 4 2 3 1]\n"
     ]
    },
    {
     "data": {
      "image/png": "[encoded data removed]",
      "text/plain": [
       "<Figure size 432x288 with 1 Axes>"
      ]
     },
     "metadata": {
      "needs_background": "light"
     },
     "output_type": "display_data"
    }
   ],
   "source": [
    "func_permutation_importance(X=X_train, y=y_train)"
   ]
  },
  {
   "cell_type": "code",
   "execution_count": 64,
   "metadata": {
    "scrolled": true
   },
   "outputs": [
    {
     "name": "stdout",
     "output_type": "stream",
     "text": [
      "[0.15215127 0.08339271 0.13688682 0.31279803 0.29586188]\n",
      "[1 2 0 4 3]\n"
     ]
    },
    {
     "data": {
      "image/png": "[encoded data removed]",
      "text/plain": [
       "<Figure size 432x288 with 1 Axes>"
      ]
     },
     "metadata": {
      "needs_background": "light"
     },
     "output_type": "display_data"
    }
   ],
   "source": [
    "func_permutation_importance(X=X_test, y=y_test)"
   ]
  },
  {
   "cell_type": "markdown",
   "metadata": {},
   "source": [
    "## ROC Model"
   ]
  },
  {
   "cell_type": "code",
   "execution_count": 65,
   "metadata": {},
   "outputs": [],
   "source": [
    "from joblib import dump, load\n",
    "svc = load(\"../../dataset/dataset_100/\")"
   ]
  },
  {
   "cell_type": "code",
   "execution_count": 67,
   "metadata": {},
   "outputs": [
    {
     "name": "stdout",
     "output_type": "stream",
     "text": [
      "answer.csv\t\t    run-v2.py\r\n",
      "a.txt\t\t\t    run-v3.py\r\n",
      "calibration\t\t    run-v5.py\r\n",
      "confusion_matrix.txt\t    run-v6.py\r\n",
      "data-mining\t\t    run-v7-demo-evaluation_back.py\r\n",
      "dataset_100_result.csv\t    run-v7-demo-evaluation.py\r\n",
      "demo\t\t\t    run-v7-demo-make_result.py\r\n",
      "demo-result-after.csv\t    run-v7-demo-test.py\r\n",
      "demo-result-before.csv\t    run-v7-evaluation.py\r\n",
      "demo-result.csv\t\t    run-v7-fusion_result.ipynb\r\n",
      "features.csv\t\t    run-v7-test-hand-labeled.py\r\n",
      "fewer_light_100_result.csv  run-v7-test.py\r\n",
      "haha.csv\t\t    run-v7-train-ground.py\r\n",
      "img\t\t\t    test.ipynb\r\n",
      "make_light_image.py\t    test.py\r\n",
      "model.yml\t\t    train.py\r\n",
      "pic_100_result.csv\t    train-rf-pipline.py\r\n",
      "README.md\t\t    train-rf-random_serach.py\r\n",
      "remove.py\t\t    train-svm-pipline.py\r\n",
      "run-cce.py\t\t    utils\r\n",
      "run-cvgip.py\t\t    viz_result.py\r\n",
      "run-simple.py\r\n"
     ]
    }
   ],
   "source": [
    "!ls ../"
   ]
  },
  {
   "cell_type": "code",
   "execution_count": 56,
   "metadata": {},
   "outputs": [
    {
     "data": {
      "image/png": "[encoded data removed]",
      "text/plain": [
       "<Figure size 432x288 with 1 Axes>"
      ]
     },
     "metadata": {
      "needs_background": "light"
     },
     "output_type": "display_data"
    }
   ],
   "source": [
    "from sklearn.model_selection import train_test_split\n",
    "from sklearn.svm import SVC\n",
    "from sklearn.metrics import plot_roc_curve\n",
    "from sklearn.ensemble import RandomForestClassifier\n",
    "from sklearn.datasets import make_classification\n",
    "import matplotlib.pyplot as plt\n",
    "\n",
    "\n",
    "svc = SVC(random_state=42)\n",
    "svc.fit(X_train, y_train)\n",
    "rfc = RandomForestClassifier(random_state=42)\n",
    "rfc.fit(X_train, y_train)\n",
    "\n",
    "svc_disp = plot_roc_curve(svc, X_test, y_test)\n",
    "rfc_disp = plot_roc_curve(rfc, X_test, y_test, ax=svc_disp.ax_)\n",
    "rfc_disp.figure_.suptitle(\"ROC curve comparison\")\n",
    "\n",
    "plt.show()\n"
   ]
  },
  {
   "cell_type": "code",
   "execution_count": 21,
   "metadata": {},
   "outputs": [
    {
     "name": "stdout",
     "output_type": "stream",
     "text": [
      "\n",
      "hahaha\n",
      "\n"
     ]
    }
   ],
   "source": [
    "\n",
    "\"\"\"\n",
    "hahaha\n",
    "\"\"\"\n",
    "print(__doc__)"
   ]
  },
  {
   "cell_type": "code",
   "execution_count": 3,
   "metadata": {},
   "outputs": [
    {
     "data": {
      "text/html": [
       "<div>\n",
       "<style scoped>\n",
       "    .dataframe tbody tr th:only-of-type {\n",
       "        vertical-align: middle;\n",
       "    }\n",
       "\n",
       "    .dataframe tbody tr th {\n",
       "        vertical-align: top;\n",
       "    }\n",
       "\n",
       "    .dataframe thead th {\n",
       "        text-align: right;\n",
       "    }\n",
       "</style>\n",
       "<table border=\"1\" class=\"dataframe\">\n",
       "  <thead>\n",
       "    <tr style=\"text-align: right;\">\n",
       "      <th></th>\n",
       "      <th>Unnamed: 0</th>\n",
       "      <th>fliename</th>\n",
       "      <th>iou</th>\n",
       "      <th>min</th>\n",
       "      <th>std</th>\n",
       "      <th>y</th>\n",
       "      <th>area</th>\n",
       "      <th>position</th>\n",
       "      <th>answers</th>\n",
       "    </tr>\n",
       "  </thead>\n",
       "  <tbody>\n",
       "  </tbody>\n",
       "</table>\n",
       "</div>"
      ],
      "text/plain": [
       "Empty DataFrame\n",
       "Columns: [Unnamed: 0, fliename, iou, min, std, y, area, position, answers]\n",
       "Index: []"
      ]
     },
     "execution_count": 3,
     "metadata": {},
     "output_type": "execute_result"
    }
   ],
   "source": [
    "# check NaN\n",
    "is_NaN = data.isnull()\n",
    "row_has_NaN = is_NaN.any(axis=1)\n",
    "rows_with_NaN = data[row_has_NaN]\n",
    "rows_with_NaN"
   ]
  }
 ],
 "metadata": {
  "kernelspec": {
   "display_name": "Python 3",
   "language": "python",
   "name": "python3"
  },
  "language_info": {
   "codemirror_mode": {
    "name": "ipython",
    "version": 3
   },
   "file_extension": ".py",
   "mimetype": "text/x-python",
   "name": "python",
   "nbconvert_exporter": "python",
   "pygments_lexer": "ipython3",
   "version": "3.6.10"
  }
 },
 "nbformat": 4,
 "nbformat_minor": 4
}
